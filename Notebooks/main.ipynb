{
 "cells": [
  {
   "cell_type": "markdown",
   "id": "dc320e11",
   "metadata": {},
   "source": [
    "\n"
   ]
  },
  {
   "cell_type": "code",
   "execution_count": 1,
   "id": "8f021180",
   "metadata": {},
   "outputs": [],
   "source": [
    "import pandas as pd\n",
    "import pickle\n",
    "import numpy as np\n",
    "import matplotlib.pyplot as plt\n"
   ]
  },
  {
   "cell_type": "code",
   "execution_count": 26,
   "id": "4edb5b6a",
   "metadata": {},
   "outputs": [],
   "source": [
    "import model"
   ]
  },
  {
   "cell_type": "code",
   "execution_count": 3,
   "id": "5cdfafdc",
   "metadata": {},
   "outputs": [],
   "source": [
    "def read_pkl_to_dataframe(file_path):\n",
    "    with open(file_path, 'rb') as f:\n",
    "        data = pickle.load(f)\n",
    "    return pd.DataFrame(data)"
   ]
  },
  {
   "cell_type": "code",
   "execution_count": 4,
   "id": "45eb9b18",
   "metadata": {},
   "outputs": [],
   "source": [
    "def load_rdt_data(file_path):\n",
    "    with open(file_path, 'rb') as f:\n",
    "        data = pickle.load(f)\n",
    "    return data"
   ]
  },
  {
   "cell_type": "code",
   "execution_count": 5,
   "id": "1b931677",
   "metadata": {},
   "outputs": [],
   "source": [
    "# 2. Doppler-Time Data (2D data)\n",
    "dt_dataframes = [read_pkl_to_dataframe(f'Doppler-Time Data/Doppler-Time Data/DT_{i}.pkl') for i in range(70)]"
   ]
  },
  {
   "cell_type": "code",
   "execution_count": 67,
   "id": "3ac70c32",
   "metadata": {},
   "outputs": [],
   "source": [
    "rdt_dataframes = [load_rdt_data(f'Data/RDT/RDT_{i}.pkl') for i in range(1)]"
   ]
  },
  {
   "cell_type": "code",
   "execution_count": 7,
   "id": "717e31ba",
   "metadata": {},
   "outputs": [
    {
     "data": {
      "text/plain": [
       "(23851, 32, 64)"
      ]
     },
     "execution_count": 7,
     "metadata": {},
     "output_type": "execute_result"
    }
   ],
   "source": [
    "rdt_dataframes[0].shape"
   ]
  },
  {
   "cell_type": "code",
   "execution_count": 8,
   "id": "2bd9a656",
   "metadata": {},
   "outputs": [
    {
     "data": {
      "text/plain": [
       "numpy.ndarray"
      ]
     },
     "execution_count": 8,
     "metadata": {},
     "output_type": "execute_result"
    }
   ],
   "source": [
    "type(rdt_dataframes[0])"
   ]
  },
  {
   "cell_type": "code",
   "execution_count": 9,
   "id": "dfaf22ed",
   "metadata": {},
   "outputs": [],
   "source": [
    "with open('Labels/Labels/data_Y_70.pkl', 'rb') as f:\n",
    "    data = pickle.load(f)\n",
    "\n",
    "# Create a DataFrame with meal ID index\n",
    "labels_df = pd.DataFrame({'Labels': data}, index=range(70))"
   ]
  },
  {
   "cell_type": "code",
   "execution_count": 10,
   "id": "1b79f24d",
   "metadata": {},
   "outputs": [
    {
     "data": {
      "text/html": [
       "<div>\n",
       "<style scoped>\n",
       "    .dataframe tbody tr th:only-of-type {\n",
       "        vertical-align: middle;\n",
       "    }\n",
       "\n",
       "    .dataframe tbody tr th {\n",
       "        vertical-align: top;\n",
       "    }\n",
       "\n",
       "    .dataframe thead th {\n",
       "        text-align: right;\n",
       "    }\n",
       "</style>\n",
       "<table border=\"1\" class=\"dataframe\">\n",
       "  <thead>\n",
       "    <tr style=\"text-align: right;\">\n",
       "      <th></th>\n",
       "      <th>Labels</th>\n",
       "    </tr>\n",
       "  </thead>\n",
       "  <tbody>\n",
       "    <tr>\n",
       "      <th>0</th>\n",
       "      <td>[0, 0, 0, 0, 0, 0, 0, 0, 0, 0, 0, 0, 0, 0, 0, ...</td>\n",
       "    </tr>\n",
       "    <tr>\n",
       "      <th>1</th>\n",
       "      <td>[0, 0, 0, 0, 0, 0, 0, 0, 0, 0, 0, 0, 0, 0, 0, ...</td>\n",
       "    </tr>\n",
       "    <tr>\n",
       "      <th>2</th>\n",
       "      <td>[0, 0, 0, 0, 0, 0, 0, 0, 0, 0, 0, 0, 0, 0, 0, ...</td>\n",
       "    </tr>\n",
       "    <tr>\n",
       "      <th>3</th>\n",
       "      <td>[0, 0, 0, 0, 0, 0, 0, 0, 0, 0, 0, 0, 0, 0, 0, ...</td>\n",
       "    </tr>\n",
       "    <tr>\n",
       "      <th>4</th>\n",
       "      <td>[0, 0, 0, 0, 0, 0, 0, 0, 0, 0, 0, 0, 0, 0, 0, ...</td>\n",
       "    </tr>\n",
       "    <tr>\n",
       "      <th>...</th>\n",
       "      <td>...</td>\n",
       "    </tr>\n",
       "    <tr>\n",
       "      <th>65</th>\n",
       "      <td>[0, 0, 0, 0, 0, 0, 0, 0, 0, 0, 0, 0, 0, 0, 0, ...</td>\n",
       "    </tr>\n",
       "    <tr>\n",
       "      <th>66</th>\n",
       "      <td>[0, 0, 0, 0, 0, 0, 0, 0, 0, 0, 0, 0, 0, 0, 0, ...</td>\n",
       "    </tr>\n",
       "    <tr>\n",
       "      <th>67</th>\n",
       "      <td>[0, 0, 0, 0, 0, 0, 0, 0, 0, 0, 0, 0, 0, 0, 0, ...</td>\n",
       "    </tr>\n",
       "    <tr>\n",
       "      <th>68</th>\n",
       "      <td>[0, 0, 0, 0, 0, 0, 0, 0, 0, 0, 0, 0, 0, 0, 0, ...</td>\n",
       "    </tr>\n",
       "    <tr>\n",
       "      <th>69</th>\n",
       "      <td>[0, 0, 0, 0, 0, 0, 0, 0, 0, 0, 0, 0, 0, 0, 0, ...</td>\n",
       "    </tr>\n",
       "  </tbody>\n",
       "</table>\n",
       "<p>70 rows × 1 columns</p>\n",
       "</div>"
      ],
      "text/plain": [
       "                                               Labels\n",
       "0   [0, 0, 0, 0, 0, 0, 0, 0, 0, 0, 0, 0, 0, 0, 0, ...\n",
       "1   [0, 0, 0, 0, 0, 0, 0, 0, 0, 0, 0, 0, 0, 0, 0, ...\n",
       "2   [0, 0, 0, 0, 0, 0, 0, 0, 0, 0, 0, 0, 0, 0, 0, ...\n",
       "3   [0, 0, 0, 0, 0, 0, 0, 0, 0, 0, 0, 0, 0, 0, 0, ...\n",
       "4   [0, 0, 0, 0, 0, 0, 0, 0, 0, 0, 0, 0, 0, 0, 0, ...\n",
       "..                                                ...\n",
       "65  [0, 0, 0, 0, 0, 0, 0, 0, 0, 0, 0, 0, 0, 0, 0, ...\n",
       "66  [0, 0, 0, 0, 0, 0, 0, 0, 0, 0, 0, 0, 0, 0, 0, ...\n",
       "67  [0, 0, 0, 0, 0, 0, 0, 0, 0, 0, 0, 0, 0, 0, 0, ...\n",
       "68  [0, 0, 0, 0, 0, 0, 0, 0, 0, 0, 0, 0, 0, 0, 0, ...\n",
       "69  [0, 0, 0, 0, 0, 0, 0, 0, 0, 0, 0, 0, 0, 0, 0, ...\n",
       "\n",
       "[70 rows x 1 columns]"
      ]
     },
     "execution_count": 10,
     "metadata": {},
     "output_type": "execute_result"
    }
   ],
   "source": [
    "labels_df"
   ]
  },
  {
   "cell_type": "code",
   "execution_count": 43,
   "id": "a4c8b3b1",
   "metadata": {
    "scrolled": true
   },
   "outputs": [],
   "source": [
    "a = list(labels_df.iloc[0, 0])"
   ]
  },
  {
   "cell_type": "code",
   "execution_count": 44,
   "id": "8723bdeb",
   "metadata": {},
   "outputs": [],
   "source": [
    "from collections import Counter\n"
   ]
  },
  {
   "cell_type": "code",
   "execution_count": 45,
   "id": "02bda511",
   "metadata": {},
   "outputs": [
    {
     "data": {
      "text/plain": [
       "Counter({0: 18252, 1: 5280, 2: 319})"
      ]
     },
     "execution_count": 45,
     "metadata": {},
     "output_type": "execute_result"
    }
   ],
   "source": [
    "Counter(a)"
   ]
  },
  {
   "cell_type": "code",
   "execution_count": 14,
   "id": "8e0bfc01",
   "metadata": {
    "scrolled": true
   },
   "outputs": [],
   "source": [
    "\n",
    "\n",
    "# 4. 7-fold cross validation id_list file\n",
    "id_list_data = {}\n",
    "for i in range(7):\n",
    "    folder_name = str(i)\n",
    "    train_ids = np.load(f'7-fold id_list/7-fold id_list/{folder_name}/train.npy')\n",
    "    test_ids = np.load(f'7-fold id_list/7-fold id_list/{folder_name}/test.npy')\n",
    "    valid_ids = np.load(f'7-fold id_list/7-fold id_list/{folder_name}/valid.npy')\n",
    "    \n",
    "    id_list_data[folder_name] = {\n",
    "        'train_ids': train_ids,\n",
    "        'test_ids': test_ids,\n",
    "        'valid_ids': valid_ids\n",
    "    }"
   ]
  },
  {
   "cell_type": "code",
   "execution_count": 15,
   "id": "8e3eb5ca",
   "metadata": {},
   "outputs": [],
   "source": [
    "for i in range(len(dt_dataframes)) : \n",
    "    dt_dataframes[i] = pd.DataFrame(dt_dataframes[i])"
   ]
  },
  {
   "cell_type": "markdown",
   "id": "8f90ab6c",
   "metadata": {},
   "source": []
  },
  {
   "cell_type": "code",
   "execution_count": 16,
   "id": "00a4169c",
   "metadata": {
    "scrolled": true
   },
   "outputs": [
    {
     "data": {
      "text/html": [
       "<div>\n",
       "<style scoped>\n",
       "    .dataframe tbody tr th:only-of-type {\n",
       "        vertical-align: middle;\n",
       "    }\n",
       "\n",
       "    .dataframe tbody tr th {\n",
       "        vertical-align: top;\n",
       "    }\n",
       "\n",
       "    .dataframe thead th {\n",
       "        text-align: right;\n",
       "    }\n",
       "</style>\n",
       "<table border=\"1\" class=\"dataframe\">\n",
       "  <thead>\n",
       "    <tr style=\"text-align: right;\">\n",
       "      <th></th>\n",
       "      <th>0</th>\n",
       "      <th>1</th>\n",
       "      <th>2</th>\n",
       "      <th>3</th>\n",
       "      <th>4</th>\n",
       "      <th>5</th>\n",
       "      <th>6</th>\n",
       "      <th>7</th>\n",
       "      <th>8</th>\n",
       "      <th>9</th>\n",
       "      <th>...</th>\n",
       "      <th>54</th>\n",
       "      <th>55</th>\n",
       "      <th>56</th>\n",
       "      <th>57</th>\n",
       "      <th>58</th>\n",
       "      <th>59</th>\n",
       "      <th>60</th>\n",
       "      <th>61</th>\n",
       "      <th>62</th>\n",
       "      <th>63</th>\n",
       "    </tr>\n",
       "  </thead>\n",
       "  <tbody>\n",
       "    <tr>\n",
       "      <th>0</th>\n",
       "      <td>135.584115</td>\n",
       "      <td>161.442576</td>\n",
       "      <td>161.758303</td>\n",
       "      <td>145.435738</td>\n",
       "      <td>170.127952</td>\n",
       "      <td>188.998020</td>\n",
       "      <td>166.600884</td>\n",
       "      <td>146.870185</td>\n",
       "      <td>159.523339</td>\n",
       "      <td>179.405941</td>\n",
       "      <td>...</td>\n",
       "      <td>164.902094</td>\n",
       "      <td>160.155498</td>\n",
       "      <td>144.386058</td>\n",
       "      <td>159.577661</td>\n",
       "      <td>169.019949</td>\n",
       "      <td>157.420232</td>\n",
       "      <td>149.332524</td>\n",
       "      <td>168.104854</td>\n",
       "      <td>156.044449</td>\n",
       "      <td>176.984127</td>\n",
       "    </tr>\n",
       "    <tr>\n",
       "      <th>1</th>\n",
       "      <td>168.819197</td>\n",
       "      <td>187.230260</td>\n",
       "      <td>179.477859</td>\n",
       "      <td>168.700352</td>\n",
       "      <td>161.231530</td>\n",
       "      <td>154.949769</td>\n",
       "      <td>151.840646</td>\n",
       "      <td>179.320092</td>\n",
       "      <td>180.968349</td>\n",
       "      <td>174.376055</td>\n",
       "      <td>...</td>\n",
       "      <td>164.745130</td>\n",
       "      <td>156.934597</td>\n",
       "      <td>157.294057</td>\n",
       "      <td>167.798438</td>\n",
       "      <td>159.546373</td>\n",
       "      <td>148.181398</td>\n",
       "      <td>142.973571</td>\n",
       "      <td>152.689350</td>\n",
       "      <td>157.643745</td>\n",
       "      <td>160.660589</td>\n",
       "    </tr>\n",
       "    <tr>\n",
       "      <th>2</th>\n",
       "      <td>168.496833</td>\n",
       "      <td>165.583918</td>\n",
       "      <td>151.754433</td>\n",
       "      <td>166.162210</td>\n",
       "      <td>169.950079</td>\n",
       "      <td>178.714412</td>\n",
       "      <td>149.571176</td>\n",
       "      <td>166.603704</td>\n",
       "      <td>178.392927</td>\n",
       "      <td>162.996689</td>\n",
       "      <td>...</td>\n",
       "      <td>158.274273</td>\n",
       "      <td>163.073815</td>\n",
       "      <td>169.491647</td>\n",
       "      <td>160.741431</td>\n",
       "      <td>165.365760</td>\n",
       "      <td>188.572647</td>\n",
       "      <td>188.929531</td>\n",
       "      <td>178.283142</td>\n",
       "      <td>134.765552</td>\n",
       "      <td>166.256532</td>\n",
       "    </tr>\n",
       "    <tr>\n",
       "      <th>3</th>\n",
       "      <td>149.666940</td>\n",
       "      <td>132.932952</td>\n",
       "      <td>143.401840</td>\n",
       "      <td>164.078427</td>\n",
       "      <td>167.379977</td>\n",
       "      <td>173.461793</td>\n",
       "      <td>159.302764</td>\n",
       "      <td>155.022653</td>\n",
       "      <td>168.932037</td>\n",
       "      <td>157.496050</td>\n",
       "      <td>...</td>\n",
       "      <td>166.250843</td>\n",
       "      <td>171.171596</td>\n",
       "      <td>165.750520</td>\n",
       "      <td>168.075770</td>\n",
       "      <td>176.578014</td>\n",
       "      <td>182.006837</td>\n",
       "      <td>157.906695</td>\n",
       "      <td>137.838132</td>\n",
       "      <td>177.978968</td>\n",
       "      <td>180.150384</td>\n",
       "    </tr>\n",
       "    <tr>\n",
       "      <th>4</th>\n",
       "      <td>157.464530</td>\n",
       "      <td>183.582979</td>\n",
       "      <td>181.972727</td>\n",
       "      <td>183.721029</td>\n",
       "      <td>183.203717</td>\n",
       "      <td>156.063962</td>\n",
       "      <td>157.483562</td>\n",
       "      <td>160.609625</td>\n",
       "      <td>157.798672</td>\n",
       "      <td>176.228444</td>\n",
       "      <td>...</td>\n",
       "      <td>270.550459</td>\n",
       "      <td>244.273494</td>\n",
       "      <td>238.361711</td>\n",
       "      <td>203.437779</td>\n",
       "      <td>214.115651</td>\n",
       "      <td>246.499999</td>\n",
       "      <td>250.394745</td>\n",
       "      <td>211.701353</td>\n",
       "      <td>202.221204</td>\n",
       "      <td>205.976221</td>\n",
       "    </tr>\n",
       "  </tbody>\n",
       "</table>\n",
       "<p>5 rows × 64 columns</p>\n",
       "</div>"
      ],
      "text/plain": [
       "           0           1           2           3           4           5   \\\n",
       "0  135.584115  161.442576  161.758303  145.435738  170.127952  188.998020   \n",
       "1  168.819197  187.230260  179.477859  168.700352  161.231530  154.949769   \n",
       "2  168.496833  165.583918  151.754433  166.162210  169.950079  178.714412   \n",
       "3  149.666940  132.932952  143.401840  164.078427  167.379977  173.461793   \n",
       "4  157.464530  183.582979  181.972727  183.721029  183.203717  156.063962   \n",
       "\n",
       "           6           7           8           9   ...          54  \\\n",
       "0  166.600884  146.870185  159.523339  179.405941  ...  164.902094   \n",
       "1  151.840646  179.320092  180.968349  174.376055  ...  164.745130   \n",
       "2  149.571176  166.603704  178.392927  162.996689  ...  158.274273   \n",
       "3  159.302764  155.022653  168.932037  157.496050  ...  166.250843   \n",
       "4  157.483562  160.609625  157.798672  176.228444  ...  270.550459   \n",
       "\n",
       "           55          56          57          58          59          60  \\\n",
       "0  160.155498  144.386058  159.577661  169.019949  157.420232  149.332524   \n",
       "1  156.934597  157.294057  167.798438  159.546373  148.181398  142.973571   \n",
       "2  163.073815  169.491647  160.741431  165.365760  188.572647  188.929531   \n",
       "3  171.171596  165.750520  168.075770  176.578014  182.006837  157.906695   \n",
       "4  244.273494  238.361711  203.437779  214.115651  246.499999  250.394745   \n",
       "\n",
       "           61          62          63  \n",
       "0  168.104854  156.044449  176.984127  \n",
       "1  152.689350  157.643745  160.660589  \n",
       "2  178.283142  134.765552  166.256532  \n",
       "3  137.838132  177.978968  180.150384  \n",
       "4  211.701353  202.221204  205.976221  \n",
       "\n",
       "[5 rows x 64 columns]"
      ]
     },
     "execution_count": 16,
     "metadata": {},
     "output_type": "execute_result"
    }
   ],
   "source": [
    "dt_dataframes[0].head()"
   ]
  },
  {
   "cell_type": "code",
   "execution_count": 14,
   "id": "3225b6ae",
   "metadata": {},
   "outputs": [],
   "source": [
    "first_frame_rdt = rdt_dataframes[0][0, :, :]\n"
   ]
  },
  {
   "cell_type": "code",
   "execution_count": 15,
   "id": "a995769f",
   "metadata": {},
   "outputs": [
    {
     "data": {
      "text/plain": [
       "(23851, 32, 64)"
      ]
     },
     "execution_count": 15,
     "metadata": {},
     "output_type": "execute_result"
    }
   ],
   "source": [
    "rdt_dataframes[0].shape"
   ]
  },
  {
   "cell_type": "code",
   "execution_count": 16,
   "id": "410b5107",
   "metadata": {
    "scrolled": true
   },
   "outputs": [
    {
     "data": {
      "image/png": "[encoded data removed]",
      "text/plain": [
       "<Figure size 1500x1500 with 9 Axes>"
      ]
     },
     "metadata": {},
     "output_type": "display_data"
    }
   ],
   "source": [
    "# Plotting the first 9 frames of RDT data\n",
    "fig, axes = plt.subplots(3, 3, figsize=(15, 15))\n",
    "\n",
    "for i, ax in enumerate(axes.flatten()):\n",
    "    ax.imshow(rdt_dataframes[0][i, :, :], cmap='jet', aspect='auto')\n",
    "    ax.set_title(f'Frame {i}')\n",
    "    ax.set_xlabel('Doppler')\n",
    "    ax.set_ylabel('Range')\n",
    "    ax.set_xticks([])\n",
    "    ax.set_yticks([])\n",
    "\n",
    "plt.tight_layout()\n",
    "plt.show()"
   ]
  },
  {
   "cell_type": "code",
   "execution_count": 17,
   "id": "3291d44e",
   "metadata": {},
   "outputs": [
    {
     "ename": "SyntaxError",
     "evalue": "invalid syntax (4120741153.py, line 1)",
     "output_type": "error",
     "traceback": [
      "\u001b[1;36m  Cell \u001b[1;32mIn[17], line 1\u001b[1;36m\u001b[0m\n\u001b[1;33m    np.array(dt_dataframes[0])[].shape\u001b[0m\n\u001b[1;37m                               ^\u001b[0m\n\u001b[1;31mSyntaxError\u001b[0m\u001b[1;31m:\u001b[0m invalid syntax\n"
     ]
    }
   ],
   "source": [
    "np.array(dt_dataframes[0])[].shape"
   ]
  },
  {
   "cell_type": "code",
   "execution_count": null,
   "id": "c5dcad03",
   "metadata": {
    "scrolled": true
   },
   "outputs": [],
   "source": [
    "# Number of frames to plot\n",
    "num_frames = 5\n",
    "\n",
    "# Plotting the first few frames of DT data\n",
    "for i in range(num_frames):\n",
    "    plt.figure(figsize=(10, 4))\n",
    "    plt.plot(np.array(dt_dataframes[0])[i])\n",
    "    plt.title(f'DT Signal - Frame {i}')\n",
    "    plt.xlabel('Time')\n",
    "    plt.ylabel('Intensity')\n",
    "    plt.grid(True)\n",
    "    plt.show()"
   ]
  },
  {
   "cell_type": "markdown",
   "id": "14bf1c2b",
   "metadata": {},
   "source": [
    "## Preprocessing"
   ]
  },
  {
   "cell_type": "code",
   "execution_count": 11,
   "id": "d4c4ce03",
   "metadata": {},
   "outputs": [
    {
     "data": {
      "text/plain": [
       "(20152, 32, 64)"
      ]
     },
     "execution_count": 11,
     "metadata": {},
     "output_type": "execute_result"
    }
   ],
   "source": [
    "rdt_dataframes[2].shape"
   ]
  },
  {
   "cell_type": "code",
   "execution_count": 46,
   "id": "97c623ab",
   "metadata": {},
   "outputs": [],
   "source": [
    "X_train_processed = []\n",
    "\n",
    "num_frames_to_add = 149\n",
    "\n",
    "# Define the shape of each frame\n",
    "frame_shape = (32, 64)\n",
    "\n",
    "# Create null frames\n",
    "null_frames = np.zeros((num_frames_to_add,) + frame_shape)"
   ]
  },
  {
   "cell_type": "code",
   "execution_count": 47,
   "id": "e4b76859",
   "metadata": {},
   "outputs": [],
   "source": [
    "extended_dataframe = np.concatenate([rdt_dataframes[0], null_frames], axis=0)\n"
   ]
  },
  {
   "cell_type": "code",
   "execution_count": 48,
   "id": "4c83a446",
   "metadata": {},
   "outputs": [
    {
     "data": {
      "text/plain": [
       "(24000, 32, 64)"
      ]
     },
     "execution_count": 48,
     "metadata": {},
     "output_type": "execute_result"
    }
   ],
   "source": [
    "extended_dataframe.shape"
   ]
  },
  {
   "cell_type": "code",
   "execution_count": 49,
   "id": "f9fcaa42",
   "metadata": {},
   "outputs": [],
   "source": [
    "X_train = extended_dataframe"
   ]
  },
  {
   "cell_type": "code",
   "execution_count": 50,
   "id": "35ff5468",
   "metadata": {},
   "outputs": [],
   "source": [
    "X_train = X_train.reshape((-1, 32, 64, 1000, 1))"
   ]
  },
  {
   "cell_type": "raw",
   "id": "26631121",
   "metadata": {},
   "source": [
    "a = a + [0] * 149"
   ]
  },
  {
   "cell_type": "code",
   "execution_count": 51,
   "id": "e89ce549",
   "metadata": {},
   "outputs": [],
   "source": [
    "a = a + [0] * 149"
   ]
  },
  {
   "cell_type": "code",
   "execution_count": 52,
   "id": "2e4a661b",
   "metadata": {},
   "outputs": [
    {
     "data": {
      "text/plain": [
       "24000"
      ]
     },
     "execution_count": 52,
     "metadata": {},
     "output_type": "execute_result"
    }
   ],
   "source": [
    "len(a)"
   ]
  },
  {
   "cell_type": "code",
   "execution_count": 53,
   "id": "35e4e310",
   "metadata": {},
   "outputs": [],
   "source": [
    "y_train = np.array(a)"
   ]
  },
  {
   "cell_type": "code",
   "execution_count": 54,
   "id": "a12b0934",
   "metadata": {},
   "outputs": [],
   "source": [
    "y = y_train\n",
    "X = X_train"
   ]
  },
  {
   "cell_type": "code",
   "execution_count": 55,
   "id": "0a93ffd5",
   "metadata": {},
   "outputs": [],
   "source": [
    "y_reshaped = np.array(y).reshape(-1, 1000)\n",
    "num_classes = 3  # Assuming you have 3 classes\n",
    "y_one_hot = np.eye(num_classes)[y_reshaped]\n",
    "\n",
    "# Reshape again to match the expected shape of y for the model\n",
    "y_final = y_one_hot.reshape(-1, 1000, num_classes)"
   ]
  },
  {
   "cell_type": "code",
   "execution_count": 56,
   "id": "6b6d7cee",
   "metadata": {},
   "outputs": [
    {
     "data": {
      "text/plain": [
       "(24, 1000, 3)"
      ]
     },
     "execution_count": 56,
     "metadata": {},
     "output_type": "execute_result"
    }
   ],
   "source": [
    "y_final.shape"
   ]
  },
  {
   "cell_type": "code",
   "execution_count": 59,
   "id": "2f36777e",
   "metadata": {},
   "outputs": [
    {
     "data": {
      "text/plain": [
       "(24, 32, 64, 1000, 1)"
      ]
     },
     "execution_count": 59,
     "metadata": {},
     "output_type": "execute_result"
    }
   ],
   "source": [
    "X.shape"
   ]
  },
  {
   "cell_type": "code",
   "execution_count": 57,
   "id": "9331a6a3",
   "metadata": {
    "scrolled": true
   },
   "outputs": [
    {
     "name": "stdout",
     "output_type": "stream",
     "text": [
      "Model: \"model_4\"\n",
      "_________________________________________________________________\n",
      " Layer (type)                Output Shape              Param #   \n",
      "=================================================================\n",
      " input_5 (InputLayer)        [(None, 32, 64, 1000, 1   0         \n",
      "                             )]                                  \n",
      "                                                                 \n",
      " conv3d_36 (Conv3D)          (None, 32, 32, 1000, 32   896       \n",
      "                             )                                   \n",
      "                                                                 \n",
      " conv3d_37 (Conv3D)          (None, 16, 16, 1000, 32   27680     \n",
      "                             )                                   \n",
      "                                                                 \n",
      " conv3d_38 (Conv3D)          (None, 8, 8, 1000, 32)    27680     \n",
      "                                                                 \n",
      " conv3d_39 (Conv3D)          (None, 4, 4, 1000, 32)    27680     \n",
      "                                                                 \n",
      " conv3d_40 (Conv3D)          (None, 4, 4, 1000, 32)    27680     \n",
      "                                                                 \n",
      " conv3d_41 (Conv3D)          (None, 4, 4, 1000, 32)    27680     \n",
      "                                                                 \n",
      " conv3d_42 (Conv3D)          (None, 4, 4, 1000, 32)    27680     \n",
      "                                                                 \n",
      " conv3d_43 (Conv3D)          (None, 4, 4, 1000, 32)    27680     \n",
      "                                                                 \n",
      " conv3d_44 (Conv3D)          (None, 4, 4, 1000, 32)    27680     \n",
      "                                                                 \n",
      " flatten_4 (Flatten)         (None, 512000)            0         \n",
      "                                                                 \n",
      " reshape_4 (Reshape)         (None, 512, 1000)         0         \n",
      "                                                                 \n",
      " permute_4 (Permute)         (None, 1000, 512)         0         \n",
      "                                                                 \n",
      " conv1d_4 (Conv1D)           (None, 1000, 3)           1539      \n",
      "                                                                 \n",
      " re_lu_4 (ReLU)              (None, 1000, 3)           0         \n",
      "                                                                 \n",
      " dropout_4 (Dropout)         (None, 1000, 3)           0         \n",
      "                                                                 \n",
      " dense_3 (Dense)             (None, 1000, 3)           12        \n",
      "                                                                 \n",
      "=================================================================\n",
      "Total params: 223887 (874.56 KB)\n",
      "Trainable params: 223887 (874.56 KB)\n",
      "Non-trainable params: 0 (0.00 Byte)\n",
      "_________________________________________________________________\n"
     ]
    }
   ],
   "source": [
    "import tensorflow as tf\n",
    "from keras.layers import Input,Dropout,Reshape,Permute,Conv1D,Conv3D, Permute,Flatten,Dense\n",
    "from keras.models import Model,Sequential\n",
    "\n",
    "model = Sequential()\n",
    "\n",
    "\n",
    "def create_model(input_shape):\n",
    "    # Input layer\n",
    "    inputs = Input(shape=input_shape)\n",
    "\n",
    "    # Shape variant layers\n",
    "    x = Conv3D(filters=32, kernel_size=(3, 3, 3), strides=(1, 2, 1), padding='same', activation='relu')(inputs)\n",
    "    x = Conv3D(filters=32, kernel_size=(3, 3, 3), strides=(2, 2, 1), padding='same', activation='relu')(x)\n",
    "    x = Conv3D(filters=32, kernel_size=(3, 3, 3), strides=(2, 2, 1), padding='same', activation='relu')(x)\n",
    "    x = Conv3D(filters=32, kernel_size=(3, 3, 3), strides=(2, 2, 1), padding='same', activation='relu')(x)\n",
    "\n",
    "    # Shape invariant layers\n",
    "    x = Conv3D(filters=32, kernel_size=(3, 3, 3), strides=(1, 1, 1), padding='same', activation='relu')(x)\n",
    "    x = Conv3D(filters=32, kernel_size=(3, 3, 3), strides=(1, 1, 1), padding='same', activation='relu')(x)\n",
    "    x = Conv3D(filters=32, kernel_size=(3, 3, 3), strides=(1, 1, 1), padding='same', activation='relu')(x)\n",
    "    x = Conv3D(filters=32, kernel_size=(3, 3, 3), strides=(1, 1, 1), padding='same', activation='relu')(x)\n",
    "    x = Conv3D(filters=32, kernel_size=(3, 3, 3), strides=(1, 1, 1), padding='same', activation='relu')(x)\n",
    "\n",
    "    # Flatten layer\n",
    "    # Flatten layer\n",
    "    x = Flatten()(x)\n",
    "    \n",
    "    # Reshape layer\n",
    "    x = Reshape((512, 1000))(x)\n",
    "    # Additional layers\n",
    "    x = Permute((2, 1))(x)\n",
    "\n",
    "    x = Conv1D(filters=3, kernel_size=1)(x)\n",
    "\n",
    "    # Assuming you have a custom SelfAttention layer\n",
    "    #x = SelfAttention(4,32)(x)\n",
    "\n",
    "    # Additional layers\n",
    "    x = tf.keras.layers.ReLU()(x)\n",
    "    x = tf.keras.layers.Dropout(0.3)(x)\n",
    "    outputs = Dense(3, activation='softmax')(x)  # Assuming 3 output classes\n",
    "\n",
    "    # Define model\n",
    "    model = Model(inputs=inputs, outputs=outputs)\n",
    "\n",
    "    return model\n",
    "\n",
    "# Input shape\n",
    "input_shape = (32, 64, 1000, 1)  # Assuming range x doppler x time x channels\n",
    "\n",
    "# Create the model\n",
    "model = create_model(input_shape)\n",
    "\n",
    "# Compile the model\n",
    "model.compile(optimizer='adam', loss='categorical_crossentropy', metrics=['accuracy'])\n",
    "\n",
    "# Print model summary\n",
    "model.summary()"
   ]
  },
  {
   "cell_type": "code",
   "execution_count": null,
   "id": "b4cf34e0",
   "metadata": {},
   "outputs": [],
   "source": []
  },
  {
   "cell_type": "code",
   "execution_count": null,
   "id": "345cf839",
   "metadata": {},
   "outputs": [],
   "source": []
  },
  {
   "cell_type": "code",
   "execution_count": null,
   "id": "89b54dc4",
   "metadata": {},
   "outputs": [],
   "source": []
  },
  {
   "cell_type": "code",
   "execution_count": 60,
   "id": "ee78ab36",
   "metadata": {},
   "outputs": [
    {
     "name": "stdout",
     "output_type": "stream",
     "text": [
      "Epoch 1/10\n",
      "WARNING:tensorflow:From C:\\Users\\Dali\\anaconda3\\lib\\site-packages\\keras\\src\\utils\\tf_utils.py:492: The name tf.ragged.RaggedTensorValue is deprecated. Please use tf.compat.v1.ragged.RaggedTensorValue instead.\n",
      "\n",
      "WARNING:tensorflow:From C:\\Users\\Dali\\anaconda3\\lib\\site-packages\\keras\\src\\engine\\base_layer_utils.py:384: The name tf.executing_eagerly_outside_functions is deprecated. Please use tf.compat.v1.executing_eagerly_outside_functions instead.\n",
      "\n",
      "1/1 [==============================] - 225s 225s/step - loss: 3.4964 - accuracy: 0.2192\n",
      "Epoch 2/10\n",
      "1/1 [==============================] - 154s 154s/step - loss: 1.2089 - accuracy: 0.3285\n",
      "Epoch 3/10\n",
      "1/1 [==============================] - 175s 175s/step - loss: 1.1213 - accuracy: 0.3880\n",
      "Epoch 4/10\n"
     ]
    },
    {
     "ename": "KeyboardInterrupt",
     "evalue": "",
     "output_type": "error",
     "traceback": [
      "\u001b[1;31m---------------------------------------------------------------------------\u001b[0m",
      "\u001b[1;31mKeyboardInterrupt\u001b[0m                         Traceback (most recent call last)",
      "Cell \u001b[1;32mIn[60], line 1\u001b[0m\n\u001b[1;32m----> 1\u001b[0m history \u001b[38;5;241m=\u001b[39m \u001b[43mmodel\u001b[49m\u001b[38;5;241;43m.\u001b[39;49m\u001b[43mfit\u001b[49m\u001b[43m(\u001b[49m\u001b[43mX\u001b[49m\u001b[43m,\u001b[49m\u001b[43m \u001b[49m\u001b[43my_final\u001b[49m\u001b[43m,\u001b[49m\u001b[43m \u001b[49m\u001b[43mepochs\u001b[49m\u001b[38;5;241;43m=\u001b[39;49m\u001b[38;5;241;43m10\u001b[39;49m\u001b[43m,\u001b[49m\u001b[43m \u001b[49m\u001b[43mbatch_size\u001b[49m\u001b[38;5;241;43m=\u001b[39;49m\u001b[38;5;241;43m32\u001b[39;49m\u001b[43m)\u001b[49m\n",
      "File \u001b[1;32m~\\anaconda3\\lib\\site-packages\\keras\\src\\utils\\traceback_utils.py:65\u001b[0m, in \u001b[0;36mfilter_traceback.<locals>.error_handler\u001b[1;34m(*args, **kwargs)\u001b[0m\n\u001b[0;32m     63\u001b[0m filtered_tb \u001b[38;5;241m=\u001b[39m \u001b[38;5;28;01mNone\u001b[39;00m\n\u001b[0;32m     64\u001b[0m \u001b[38;5;28;01mtry\u001b[39;00m:\n\u001b[1;32m---> 65\u001b[0m     \u001b[38;5;28;01mreturn\u001b[39;00m fn(\u001b[38;5;241m*\u001b[39margs, \u001b[38;5;241m*\u001b[39m\u001b[38;5;241m*\u001b[39mkwargs)\n\u001b[0;32m     66\u001b[0m \u001b[38;5;28;01mexcept\u001b[39;00m \u001b[38;5;167;01mException\u001b[39;00m \u001b[38;5;28;01mas\u001b[39;00m e:\n\u001b[0;32m     67\u001b[0m     filtered_tb \u001b[38;5;241m=\u001b[39m _process_traceback_frames(e\u001b[38;5;241m.\u001b[39m__traceback__)\n",
      "File \u001b[1;32m~\\anaconda3\\lib\\site-packages\\keras\\src\\engine\\training.py:1807\u001b[0m, in \u001b[0;36mModel.fit\u001b[1;34m(self, x, y, batch_size, epochs, verbose, callbacks, validation_split, validation_data, shuffle, class_weight, sample_weight, initial_epoch, steps_per_epoch, validation_steps, validation_batch_size, validation_freq, max_queue_size, workers, use_multiprocessing)\u001b[0m\n\u001b[0;32m   1799\u001b[0m \u001b[38;5;28;01mwith\u001b[39;00m tf\u001b[38;5;241m.\u001b[39mprofiler\u001b[38;5;241m.\u001b[39mexperimental\u001b[38;5;241m.\u001b[39mTrace(\n\u001b[0;32m   1800\u001b[0m     \u001b[38;5;124m\"\u001b[39m\u001b[38;5;124mtrain\u001b[39m\u001b[38;5;124m\"\u001b[39m,\n\u001b[0;32m   1801\u001b[0m     epoch_num\u001b[38;5;241m=\u001b[39mepoch,\n\u001b[1;32m   (...)\u001b[0m\n\u001b[0;32m   1804\u001b[0m     _r\u001b[38;5;241m=\u001b[39m\u001b[38;5;241m1\u001b[39m,\n\u001b[0;32m   1805\u001b[0m ):\n\u001b[0;32m   1806\u001b[0m     callbacks\u001b[38;5;241m.\u001b[39mon_train_batch_begin(step)\n\u001b[1;32m-> 1807\u001b[0m     tmp_logs \u001b[38;5;241m=\u001b[39m \u001b[38;5;28;43mself\u001b[39;49m\u001b[38;5;241;43m.\u001b[39;49m\u001b[43mtrain_function\u001b[49m\u001b[43m(\u001b[49m\u001b[43miterator\u001b[49m\u001b[43m)\u001b[49m\n\u001b[0;32m   1808\u001b[0m     \u001b[38;5;28;01mif\u001b[39;00m data_handler\u001b[38;5;241m.\u001b[39mshould_sync:\n\u001b[0;32m   1809\u001b[0m         context\u001b[38;5;241m.\u001b[39masync_wait()\n",
      "File \u001b[1;32m~\\anaconda3\\lib\\site-packages\\tensorflow\\python\\util\\traceback_utils.py:150\u001b[0m, in \u001b[0;36mfilter_traceback.<locals>.error_handler\u001b[1;34m(*args, **kwargs)\u001b[0m\n\u001b[0;32m    148\u001b[0m filtered_tb \u001b[38;5;241m=\u001b[39m \u001b[38;5;28;01mNone\u001b[39;00m\n\u001b[0;32m    149\u001b[0m \u001b[38;5;28;01mtry\u001b[39;00m:\n\u001b[1;32m--> 150\u001b[0m   \u001b[38;5;28;01mreturn\u001b[39;00m fn(\u001b[38;5;241m*\u001b[39margs, \u001b[38;5;241m*\u001b[39m\u001b[38;5;241m*\u001b[39mkwargs)\n\u001b[0;32m    151\u001b[0m \u001b[38;5;28;01mexcept\u001b[39;00m \u001b[38;5;167;01mException\u001b[39;00m \u001b[38;5;28;01mas\u001b[39;00m e:\n\u001b[0;32m    152\u001b[0m   filtered_tb \u001b[38;5;241m=\u001b[39m _process_traceback_frames(e\u001b[38;5;241m.\u001b[39m__traceback__)\n",
      "File \u001b[1;32m~\\anaconda3\\lib\\site-packages\\tensorflow\\python\\eager\\polymorphic_function\\polymorphic_function.py:832\u001b[0m, in \u001b[0;36mFunction.__call__\u001b[1;34m(self, *args, **kwds)\u001b[0m\n\u001b[0;32m    829\u001b[0m compiler \u001b[38;5;241m=\u001b[39m \u001b[38;5;124m\"\u001b[39m\u001b[38;5;124mxla\u001b[39m\u001b[38;5;124m\"\u001b[39m \u001b[38;5;28;01mif\u001b[39;00m \u001b[38;5;28mself\u001b[39m\u001b[38;5;241m.\u001b[39m_jit_compile \u001b[38;5;28;01melse\u001b[39;00m \u001b[38;5;124m\"\u001b[39m\u001b[38;5;124mnonXla\u001b[39m\u001b[38;5;124m\"\u001b[39m\n\u001b[0;32m    831\u001b[0m \u001b[38;5;28;01mwith\u001b[39;00m OptionalXlaContext(\u001b[38;5;28mself\u001b[39m\u001b[38;5;241m.\u001b[39m_jit_compile):\n\u001b[1;32m--> 832\u001b[0m   result \u001b[38;5;241m=\u001b[39m \u001b[38;5;28mself\u001b[39m\u001b[38;5;241m.\u001b[39m_call(\u001b[38;5;241m*\u001b[39margs, \u001b[38;5;241m*\u001b[39m\u001b[38;5;241m*\u001b[39mkwds)\n\u001b[0;32m    834\u001b[0m new_tracing_count \u001b[38;5;241m=\u001b[39m \u001b[38;5;28mself\u001b[39m\u001b[38;5;241m.\u001b[39mexperimental_get_tracing_count()\n\u001b[0;32m    835\u001b[0m without_tracing \u001b[38;5;241m=\u001b[39m (tracing_count \u001b[38;5;241m==\u001b[39m new_tracing_count)\n",
      "File \u001b[1;32m~\\anaconda3\\lib\\site-packages\\tensorflow\\python\\eager\\polymorphic_function\\polymorphic_function.py:868\u001b[0m, in \u001b[0;36mFunction._call\u001b[1;34m(self, *args, **kwds)\u001b[0m\n\u001b[0;32m    865\u001b[0m   \u001b[38;5;28mself\u001b[39m\u001b[38;5;241m.\u001b[39m_lock\u001b[38;5;241m.\u001b[39mrelease()\n\u001b[0;32m    866\u001b[0m   \u001b[38;5;66;03m# In this case we have created variables on the first call, so we run the\u001b[39;00m\n\u001b[0;32m    867\u001b[0m   \u001b[38;5;66;03m# defunned version which is guaranteed to never create variables.\u001b[39;00m\n\u001b[1;32m--> 868\u001b[0m   \u001b[38;5;28;01mreturn\u001b[39;00m \u001b[43mtracing_compilation\u001b[49m\u001b[38;5;241;43m.\u001b[39;49m\u001b[43mcall_function\u001b[49m\u001b[43m(\u001b[49m\n\u001b[0;32m    869\u001b[0m \u001b[43m      \u001b[49m\u001b[43margs\u001b[49m\u001b[43m,\u001b[49m\u001b[43m \u001b[49m\u001b[43mkwds\u001b[49m\u001b[43m,\u001b[49m\u001b[43m \u001b[49m\u001b[38;5;28;43mself\u001b[39;49m\u001b[38;5;241;43m.\u001b[39;49m\u001b[43m_no_variable_creation_config\u001b[49m\n\u001b[0;32m    870\u001b[0m \u001b[43m  \u001b[49m\u001b[43m)\u001b[49m\n\u001b[0;32m    871\u001b[0m \u001b[38;5;28;01melif\u001b[39;00m \u001b[38;5;28mself\u001b[39m\u001b[38;5;241m.\u001b[39m_variable_creation_config \u001b[38;5;129;01mis\u001b[39;00m \u001b[38;5;129;01mnot\u001b[39;00m \u001b[38;5;28;01mNone\u001b[39;00m:\n\u001b[0;32m    872\u001b[0m   \u001b[38;5;66;03m# Release the lock early so that multiple threads can perform the call\u001b[39;00m\n\u001b[0;32m    873\u001b[0m   \u001b[38;5;66;03m# in parallel.\u001b[39;00m\n\u001b[0;32m    874\u001b[0m   \u001b[38;5;28mself\u001b[39m\u001b[38;5;241m.\u001b[39m_lock\u001b[38;5;241m.\u001b[39mrelease()\n",
      "File \u001b[1;32m~\\anaconda3\\lib\\site-packages\\tensorflow\\python\\eager\\polymorphic_function\\tracing_compilation.py:139\u001b[0m, in \u001b[0;36mcall_function\u001b[1;34m(args, kwargs, tracing_options)\u001b[0m\n\u001b[0;32m    137\u001b[0m bound_args \u001b[38;5;241m=\u001b[39m function\u001b[38;5;241m.\u001b[39mfunction_type\u001b[38;5;241m.\u001b[39mbind(\u001b[38;5;241m*\u001b[39margs, \u001b[38;5;241m*\u001b[39m\u001b[38;5;241m*\u001b[39mkwargs)\n\u001b[0;32m    138\u001b[0m flat_inputs \u001b[38;5;241m=\u001b[39m function\u001b[38;5;241m.\u001b[39mfunction_type\u001b[38;5;241m.\u001b[39munpack_inputs(bound_args)\n\u001b[1;32m--> 139\u001b[0m \u001b[38;5;28;01mreturn\u001b[39;00m \u001b[43mfunction\u001b[49m\u001b[38;5;241;43m.\u001b[39;49m\u001b[43m_call_flat\u001b[49m\u001b[43m(\u001b[49m\u001b[43m  \u001b[49m\u001b[38;5;66;43;03m# pylint: disable=protected-access\u001b[39;49;00m\n\u001b[0;32m    140\u001b[0m \u001b[43m    \u001b[49m\u001b[43mflat_inputs\u001b[49m\u001b[43m,\u001b[49m\u001b[43m \u001b[49m\u001b[43mcaptured_inputs\u001b[49m\u001b[38;5;241;43m=\u001b[39;49m\u001b[43mfunction\u001b[49m\u001b[38;5;241;43m.\u001b[39;49m\u001b[43mcaptured_inputs\u001b[49m\n\u001b[0;32m    141\u001b[0m \u001b[43m\u001b[49m\u001b[43m)\u001b[49m\n",
      "File \u001b[1;32m~\\anaconda3\\lib\\site-packages\\tensorflow\\python\\eager\\polymorphic_function\\concrete_function.py:1323\u001b[0m, in \u001b[0;36mConcreteFunction._call_flat\u001b[1;34m(self, tensor_inputs, captured_inputs)\u001b[0m\n\u001b[0;32m   1319\u001b[0m possible_gradient_type \u001b[38;5;241m=\u001b[39m gradients_util\u001b[38;5;241m.\u001b[39mPossibleTapeGradientTypes(args)\n\u001b[0;32m   1320\u001b[0m \u001b[38;5;28;01mif\u001b[39;00m (possible_gradient_type \u001b[38;5;241m==\u001b[39m gradients_util\u001b[38;5;241m.\u001b[39mPOSSIBLE_GRADIENT_TYPES_NONE\n\u001b[0;32m   1321\u001b[0m     \u001b[38;5;129;01mand\u001b[39;00m executing_eagerly):\n\u001b[0;32m   1322\u001b[0m   \u001b[38;5;66;03m# No tape is watching; skip to running the function.\u001b[39;00m\n\u001b[1;32m-> 1323\u001b[0m   \u001b[38;5;28;01mreturn\u001b[39;00m \u001b[38;5;28;43mself\u001b[39;49m\u001b[38;5;241;43m.\u001b[39;49m\u001b[43m_inference_function\u001b[49m\u001b[38;5;241;43m.\u001b[39;49m\u001b[43mcall_preflattened\u001b[49m\u001b[43m(\u001b[49m\u001b[43margs\u001b[49m\u001b[43m)\u001b[49m\n\u001b[0;32m   1324\u001b[0m forward_backward \u001b[38;5;241m=\u001b[39m \u001b[38;5;28mself\u001b[39m\u001b[38;5;241m.\u001b[39m_select_forward_and_backward_functions(\n\u001b[0;32m   1325\u001b[0m     args,\n\u001b[0;32m   1326\u001b[0m     possible_gradient_type,\n\u001b[0;32m   1327\u001b[0m     executing_eagerly)\n\u001b[0;32m   1328\u001b[0m forward_function, args_with_tangents \u001b[38;5;241m=\u001b[39m forward_backward\u001b[38;5;241m.\u001b[39mforward()\n",
      "File \u001b[1;32m~\\anaconda3\\lib\\site-packages\\tensorflow\\python\\eager\\polymorphic_function\\atomic_function.py:216\u001b[0m, in \u001b[0;36mAtomicFunction.call_preflattened\u001b[1;34m(self, args)\u001b[0m\n\u001b[0;32m    214\u001b[0m \u001b[38;5;28;01mdef\u001b[39;00m \u001b[38;5;21mcall_preflattened\u001b[39m(\u001b[38;5;28mself\u001b[39m, args: Sequence[core\u001b[38;5;241m.\u001b[39mTensor]) \u001b[38;5;241m-\u001b[39m\u001b[38;5;241m>\u001b[39m Any:\n\u001b[0;32m    215\u001b[0m \u001b[38;5;250m  \u001b[39m\u001b[38;5;124;03m\"\"\"Calls with flattened tensor inputs and returns the structured output.\"\"\"\u001b[39;00m\n\u001b[1;32m--> 216\u001b[0m   flat_outputs \u001b[38;5;241m=\u001b[39m \u001b[38;5;28;43mself\u001b[39;49m\u001b[38;5;241;43m.\u001b[39;49m\u001b[43mcall_flat\u001b[49m\u001b[43m(\u001b[49m\u001b[38;5;241;43m*\u001b[39;49m\u001b[43margs\u001b[49m\u001b[43m)\u001b[49m\n\u001b[0;32m    217\u001b[0m   \u001b[38;5;28;01mreturn\u001b[39;00m \u001b[38;5;28mself\u001b[39m\u001b[38;5;241m.\u001b[39mfunction_type\u001b[38;5;241m.\u001b[39mpack_output(flat_outputs)\n",
      "File \u001b[1;32m~\\anaconda3\\lib\\site-packages\\tensorflow\\python\\eager\\polymorphic_function\\atomic_function.py:251\u001b[0m, in \u001b[0;36mAtomicFunction.call_flat\u001b[1;34m(self, *args)\u001b[0m\n\u001b[0;32m    249\u001b[0m \u001b[38;5;28;01mwith\u001b[39;00m record\u001b[38;5;241m.\u001b[39mstop_recording():\n\u001b[0;32m    250\u001b[0m   \u001b[38;5;28;01mif\u001b[39;00m \u001b[38;5;28mself\u001b[39m\u001b[38;5;241m.\u001b[39m_bound_context\u001b[38;5;241m.\u001b[39mexecuting_eagerly():\n\u001b[1;32m--> 251\u001b[0m     outputs \u001b[38;5;241m=\u001b[39m \u001b[38;5;28;43mself\u001b[39;49m\u001b[38;5;241;43m.\u001b[39;49m\u001b[43m_bound_context\u001b[49m\u001b[38;5;241;43m.\u001b[39;49m\u001b[43mcall_function\u001b[49m\u001b[43m(\u001b[49m\n\u001b[0;32m    252\u001b[0m \u001b[43m        \u001b[49m\u001b[38;5;28;43mself\u001b[39;49m\u001b[38;5;241;43m.\u001b[39;49m\u001b[43mname\u001b[49m\u001b[43m,\u001b[49m\n\u001b[0;32m    253\u001b[0m \u001b[43m        \u001b[49m\u001b[38;5;28;43mlist\u001b[39;49m\u001b[43m(\u001b[49m\u001b[43margs\u001b[49m\u001b[43m)\u001b[49m\u001b[43m,\u001b[49m\n\u001b[0;32m    254\u001b[0m \u001b[43m        \u001b[49m\u001b[38;5;28;43mlen\u001b[39;49m\u001b[43m(\u001b[49m\u001b[38;5;28;43mself\u001b[39;49m\u001b[38;5;241;43m.\u001b[39;49m\u001b[43mfunction_type\u001b[49m\u001b[38;5;241;43m.\u001b[39;49m\u001b[43mflat_outputs\u001b[49m\u001b[43m)\u001b[49m\u001b[43m,\u001b[49m\n\u001b[0;32m    255\u001b[0m \u001b[43m    \u001b[49m\u001b[43m)\u001b[49m\n\u001b[0;32m    256\u001b[0m   \u001b[38;5;28;01melse\u001b[39;00m:\n\u001b[0;32m    257\u001b[0m     outputs \u001b[38;5;241m=\u001b[39m make_call_op_in_graph(\n\u001b[0;32m    258\u001b[0m         \u001b[38;5;28mself\u001b[39m,\n\u001b[0;32m    259\u001b[0m         \u001b[38;5;28mlist\u001b[39m(args),\n\u001b[0;32m    260\u001b[0m         \u001b[38;5;28mself\u001b[39m\u001b[38;5;241m.\u001b[39m_bound_context\u001b[38;5;241m.\u001b[39mfunction_call_options\u001b[38;5;241m.\u001b[39mas_attrs(),\n\u001b[0;32m    261\u001b[0m     )\n",
      "File \u001b[1;32m~\\anaconda3\\lib\\site-packages\\tensorflow\\python\\eager\\context.py:1486\u001b[0m, in \u001b[0;36mContext.call_function\u001b[1;34m(self, name, tensor_inputs, num_outputs)\u001b[0m\n\u001b[0;32m   1484\u001b[0m cancellation_context \u001b[38;5;241m=\u001b[39m cancellation\u001b[38;5;241m.\u001b[39mcontext()\n\u001b[0;32m   1485\u001b[0m \u001b[38;5;28;01mif\u001b[39;00m cancellation_context \u001b[38;5;129;01mis\u001b[39;00m \u001b[38;5;28;01mNone\u001b[39;00m:\n\u001b[1;32m-> 1486\u001b[0m   outputs \u001b[38;5;241m=\u001b[39m \u001b[43mexecute\u001b[49m\u001b[38;5;241;43m.\u001b[39;49m\u001b[43mexecute\u001b[49m\u001b[43m(\u001b[49m\n\u001b[0;32m   1487\u001b[0m \u001b[43m      \u001b[49m\u001b[43mname\u001b[49m\u001b[38;5;241;43m.\u001b[39;49m\u001b[43mdecode\u001b[49m\u001b[43m(\u001b[49m\u001b[38;5;124;43m\"\u001b[39;49m\u001b[38;5;124;43mutf-8\u001b[39;49m\u001b[38;5;124;43m\"\u001b[39;49m\u001b[43m)\u001b[49m\u001b[43m,\u001b[49m\n\u001b[0;32m   1488\u001b[0m \u001b[43m      \u001b[49m\u001b[43mnum_outputs\u001b[49m\u001b[38;5;241;43m=\u001b[39;49m\u001b[43mnum_outputs\u001b[49m\u001b[43m,\u001b[49m\n\u001b[0;32m   1489\u001b[0m \u001b[43m      \u001b[49m\u001b[43minputs\u001b[49m\u001b[38;5;241;43m=\u001b[39;49m\u001b[43mtensor_inputs\u001b[49m\u001b[43m,\u001b[49m\n\u001b[0;32m   1490\u001b[0m \u001b[43m      \u001b[49m\u001b[43mattrs\u001b[49m\u001b[38;5;241;43m=\u001b[39;49m\u001b[43mattrs\u001b[49m\u001b[43m,\u001b[49m\n\u001b[0;32m   1491\u001b[0m \u001b[43m      \u001b[49m\u001b[43mctx\u001b[49m\u001b[38;5;241;43m=\u001b[39;49m\u001b[38;5;28;43mself\u001b[39;49m\u001b[43m,\u001b[49m\n\u001b[0;32m   1492\u001b[0m \u001b[43m  \u001b[49m\u001b[43m)\u001b[49m\n\u001b[0;32m   1493\u001b[0m \u001b[38;5;28;01melse\u001b[39;00m:\n\u001b[0;32m   1494\u001b[0m   outputs \u001b[38;5;241m=\u001b[39m execute\u001b[38;5;241m.\u001b[39mexecute_with_cancellation(\n\u001b[0;32m   1495\u001b[0m       name\u001b[38;5;241m.\u001b[39mdecode(\u001b[38;5;124m\"\u001b[39m\u001b[38;5;124mutf-8\u001b[39m\u001b[38;5;124m\"\u001b[39m),\n\u001b[0;32m   1496\u001b[0m       num_outputs\u001b[38;5;241m=\u001b[39mnum_outputs,\n\u001b[1;32m   (...)\u001b[0m\n\u001b[0;32m   1500\u001b[0m       cancellation_manager\u001b[38;5;241m=\u001b[39mcancellation_context,\n\u001b[0;32m   1501\u001b[0m   )\n",
      "File \u001b[1;32m~\\anaconda3\\lib\\site-packages\\tensorflow\\python\\eager\\execute.py:53\u001b[0m, in \u001b[0;36mquick_execute\u001b[1;34m(op_name, num_outputs, inputs, attrs, ctx, name)\u001b[0m\n\u001b[0;32m     51\u001b[0m \u001b[38;5;28;01mtry\u001b[39;00m:\n\u001b[0;32m     52\u001b[0m   ctx\u001b[38;5;241m.\u001b[39mensure_initialized()\n\u001b[1;32m---> 53\u001b[0m   tensors \u001b[38;5;241m=\u001b[39m \u001b[43mpywrap_tfe\u001b[49m\u001b[38;5;241;43m.\u001b[39;49m\u001b[43mTFE_Py_Execute\u001b[49m\u001b[43m(\u001b[49m\u001b[43mctx\u001b[49m\u001b[38;5;241;43m.\u001b[39;49m\u001b[43m_handle\u001b[49m\u001b[43m,\u001b[49m\u001b[43m \u001b[49m\u001b[43mdevice_name\u001b[49m\u001b[43m,\u001b[49m\u001b[43m \u001b[49m\u001b[43mop_name\u001b[49m\u001b[43m,\u001b[49m\n\u001b[0;32m     54\u001b[0m \u001b[43m                                      \u001b[49m\u001b[43minputs\u001b[49m\u001b[43m,\u001b[49m\u001b[43m \u001b[49m\u001b[43mattrs\u001b[49m\u001b[43m,\u001b[49m\u001b[43m \u001b[49m\u001b[43mnum_outputs\u001b[49m\u001b[43m)\u001b[49m\n\u001b[0;32m     55\u001b[0m \u001b[38;5;28;01mexcept\u001b[39;00m core\u001b[38;5;241m.\u001b[39m_NotOkStatusException \u001b[38;5;28;01mas\u001b[39;00m e:\n\u001b[0;32m     56\u001b[0m   \u001b[38;5;28;01mif\u001b[39;00m name \u001b[38;5;129;01mis\u001b[39;00m \u001b[38;5;129;01mnot\u001b[39;00m \u001b[38;5;28;01mNone\u001b[39;00m:\n",
      "\u001b[1;31mKeyboardInterrupt\u001b[0m: "
     ]
    }
   ],
   "source": [
    "history = model.fit(X, y_final, epochs=10, batch_size=32)\n"
   ]
  },
  {
   "cell_type": "code",
   "execution_count": null,
   "id": "302da542",
   "metadata": {},
   "outputs": [],
   "source": []
  },
  {
   "cell_type": "code",
   "execution_count": null,
   "id": "ba99c5ff",
   "metadata": {},
   "outputs": [],
   "source": []
  },
  {
   "cell_type": "code",
   "execution_count": 61,
   "id": "8a338495",
   "metadata": {},
   "outputs": [],
   "source": [
    "s = 0 \n",
    "for i in rdt_dataframes : \n",
    "    s+= i.shape[0]"
   ]
  },
  {
   "cell_type": "code",
   "execution_count": 62,
   "id": "9c966ff6",
   "metadata": {},
   "outputs": [
    {
     "data": {
      "text/plain": [
       "73647"
      ]
     },
     "execution_count": 62,
     "metadata": {},
     "output_type": "execute_result"
    }
   ],
   "source": [
    "s"
   ]
  },
  {
   "cell_type": "code",
   "execution_count": 72,
   "id": "c7fd197b",
   "metadata": {},
   "outputs": [],
   "source": [
    "frame_shape = (32, 64)\n",
    "s = 0\n",
    "for i in rdt_dataframes :\n",
    "    s+=i.shape[0]\n",
    "num_frames_to_add = 1000 - (s % 1000)\n",
    "\n",
    "null_frames = np.zeros((num_frames_to_add,) + frame_shape)\n",
    "    \n",
    "\n",
    "concatenated_array = np.concatenate(rdt_dataframes, axis=0)\n",
    "extended_array = np.concatenate([concatenated_array, null_frames], axis=0)"
   ]
  },
  {
   "cell_type": "code",
   "execution_count": 73,
   "id": "99e1d91f",
   "metadata": {},
   "outputs": [
    {
     "data": {
      "text/plain": [
       "(24000, 32, 64)"
      ]
     },
     "execution_count": 73,
     "metadata": {},
     "output_type": "execute_result"
    }
   ],
   "source": [
    "extended_array.shape"
   ]
  },
  {
   "cell_type": "code",
   "execution_count": 74,
   "id": "6f3f210c",
   "metadata": {},
   "outputs": [
    {
     "data": {
      "text/plain": [
       "149"
      ]
     },
     "execution_count": 74,
     "metadata": {},
     "output_type": "execute_result"
    }
   ],
   "source": [
    "num_frames_to_add"
   ]
  },
  {
   "cell_type": "code",
   "execution_count": 75,
   "id": "3c32df43",
   "metadata": {},
   "outputs": [
    {
     "data": {
      "text/plain": [
       "(23851, 32, 64)"
      ]
     },
     "execution_count": 75,
     "metadata": {},
     "output_type": "execute_result"
    }
   ],
   "source": [
    "rdt_dataframes[0].shape"
   ]
  },
  {
   "cell_type": "code",
   "execution_count": null,
   "id": "fd344290",
   "metadata": {},
   "outputs": [],
   "source": []
  }
 ],
 "metadata": {
  "kernelspec": {
   "display_name": "Python 3 (ipykernel)",
   "language": "python",
   "name": "python3"
  },
  "language_info": {
   "codemirror_mode": {
    "name": "ipython",
    "version": 3
   },
   "file_extension": ".py",
   "mimetype": "text/x-python",
   "name": "python",
   "nbconvert_exporter": "python",
   "pygments_lexer": "ipython3",
   "version": "3.9.16"
  }
 },
 "nbformat": 4,
 "nbformat_minor": 5
}

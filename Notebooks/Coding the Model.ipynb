{
 "cells": [
  {
   "cell_type": "code",
   "execution_count": 42,
   "id": "3d291985",
   "metadata": {},
   "outputs": [],
   "source": [
    "import tensorflow as tf\n",
    "from keras.layers import Input,Dropout,Reshape,Permute,Conv1D,Conv3D, Permute,Flatten\n",
    "from keras.models import Model,Sequential\n"
   ]
  },
  {
   "cell_type": "code",
   "execution_count": null,
   "id": "5a2bd36f",
   "metadata": {},
   "outputs": [],
   "source": []
  },
  {
   "cell_type": "code",
   "execution_count": 43,
   "id": "7a4910c2",
   "metadata": {},
   "outputs": [],
   "source": [
    "model = Sequential()"
   ]
  },
  {
   "cell_type": "code",
   "execution_count": 44,
   "id": "ff68eeca",
   "metadata": {},
   "outputs": [
    {
     "name": "stdout",
     "output_type": "stream",
     "text": [
      "Model: \"model_19\"\n",
      "_________________________________________________________________\n",
      " Layer (type)                Output Shape              Param #   \n",
      "=================================================================\n",
      " input_30 (InputLayer)       [(None, 32, 64, 1000, 1   0         \n",
      "                             )]                                  \n",
      "                                                                 \n",
      " conv3d_262 (Conv3D)         (None, 32, 32, 1000, 32   896       \n",
      "                             )                                   \n",
      "                                                                 \n",
      " conv3d_263 (Conv3D)         (None, 16, 16, 1000, 32   27680     \n",
      "                             )                                   \n",
      "                                                                 \n",
      " conv3d_264 (Conv3D)         (None, 8, 8, 1000, 32)    27680     \n",
      "                                                                 \n",
      " conv3d_265 (Conv3D)         (None, 4, 4, 1000, 32)    27680     \n",
      "                                                                 \n",
      " conv3d_266 (Conv3D)         (None, 4, 4, 1000, 32)    27680     \n",
      "                                                                 \n",
      " conv3d_267 (Conv3D)         (None, 4, 4, 1000, 32)    27680     \n",
      "                                                                 \n",
      " conv3d_268 (Conv3D)         (None, 4, 4, 1000, 32)    27680     \n",
      "                                                                 \n",
      " conv3d_269 (Conv3D)         (None, 4, 4, 1000, 32)    27680     \n",
      "                                                                 \n",
      " conv3d_270 (Conv3D)         (None, 4, 4, 1000, 32)    27680     \n",
      "                                                                 \n",
      " flatten_29 (Flatten)        (None, 512000)            0         \n",
      "                                                                 \n",
      " reshape_20 (Reshape)        (None, 512, 1000)         0         \n",
      "                                                                 \n",
      " permute_14 (Permute)        (None, 1000, 512)         0         \n",
      "                                                                 \n",
      " conv1d_21 (Conv1D)          (None, 1000, 3)           1539      \n",
      "                                                                 \n",
      " re_lu_4 (ReLU)              (None, 1000, 3)           0         \n",
      "                                                                 \n",
      " dropout_3 (Dropout)         (None, 1000, 3)           0         \n",
      "                                                                 \n",
      " softmax_7 (Softmax)         (None, 1000, 3)           0         \n",
      "                                                                 \n",
      "=================================================================\n",
      "Total params: 223875 (874.51 KB)\n",
      "Trainable params: 223875 (874.51 KB)\n",
      "Non-trainable params: 0 (0.00 Byte)\n",
      "_________________________________________________________________\n"
     ]
    }
   ],
   "source": [
    "\n",
    "def create_model(input_shape):\n",
    "    # Input layer\n",
    "    inputs = Input(shape=input_shape)\n",
    "\n",
    "    # Shape variant layers\n",
    "    x = Conv3D(filters=32, kernel_size=(3, 3, 3), strides=(1, 2, 1), padding='same', activation='relu')(inputs)\n",
    "    x = Conv3D(filters=32, kernel_size=(3, 3, 3), strides=(2, 2, 1), padding='same', activation='relu')(x)\n",
    "    x = Conv3D(filters=32, kernel_size=(3, 3, 3), strides=(2, 2, 1), padding='same', activation='relu')(x)\n",
    "    x = Conv3D(filters=32, kernel_size=(3, 3, 3), strides=(2, 2, 1), padding='same', activation='relu')(x)\n",
    "\n",
    "    # Shape invariant layers\n",
    "    x = Conv3D(filters=32, kernel_size=(3, 3, 3), strides=(1, 1, 1), padding='same', activation='relu')(x)\n",
    "    x = Conv3D(filters=32, kernel_size=(3, 3, 3), strides=(1, 1, 1), padding='same', activation='relu')(x)\n",
    "    x = Conv3D(filters=32, kernel_size=(3, 3, 3), strides=(1, 1, 1), padding='same', activation='relu')(x)\n",
    "    x = Conv3D(filters=32, kernel_size=(3, 3, 3), strides=(1, 1, 1), padding='same', activation='relu')(x)\n",
    "    x = Conv3D(filters=32, kernel_size=(3, 3, 3), strides=(1, 1, 1), padding='same', activation='relu')(x)\n",
    "\n",
    "    # Flatten layer\n",
    "    # Flatten layer\n",
    "    x = Flatten()(x)\n",
    "    \n",
    "    # Reshape layer\n",
    "    x = Reshape((512, 1000))(x)\n",
    "    # Additional layers\n",
    "    x = Permute((2, 1))(x)\n",
    "\n",
    "    x = Conv1D(filters=3, kernel_size=1)(x)\n",
    "\n",
    "    # Assuming you have a custom SelfAttention layer\n",
    "   # x = SelfAttention(4,32)(x)\n",
    "\n",
    "    # Additional layers\n",
    "    x = tf.keras.layers.ReLU()(x)\n",
    "    x = tf.keras.layers.Dropout(0.3)(x)\n",
    "    outputs = tf.keras.layers.Softmax()(x)\n",
    "\n",
    "    # Define model\n",
    "    model = Model(inputs=inputs, outputs=outputs)\n",
    "\n",
    "    return model\n",
    "\n",
    "# Input shape\n",
    "input_shape = (32, 64, 1000, 1)  # Assuming range x doppler x time x channels\n",
    "\n",
    "# Create the model\n",
    "model = create_model(input_shape)\n",
    "\n",
    "# Compile the model\n",
    "model.compile(optimizer='adam', loss='categorical_crossentropy', metrics=['accuracy'])\n",
    "\n",
    "# Print model summary\n",
    "model.summary()\n"
   ]
  },
  {
   "cell_type": "code",
   "execution_count": 45,
   "id": "1ec2dd36",
   "metadata": {},
   "outputs": [],
   "source": [
    "# Define custom truncated mean squared error (T-MSE) loss\n",
    "def truncated_mse(y_true, y_pred):\n",
    "    # Define your truncated mean squared error calculation here\n",
    "    # This is just a placeholder, replace it with your actual implementation\n",
    "    return tf.reduce_mean(tf.square(tf.subtract(y_true, y_pred)))\n",
    "\n",
    "# Combine cross-entropy loss and truncated mean squared error (T-MSE) loss\n",
    "def combined_loss(y_true, y_pred):\n",
    "    cross_entropy = tf.keras.losses.categorical_crossentropy(y_true, y_pred)\n",
    "    t_mse = truncated_mse(y_true, y_pred)\n",
    "    return cross_entropy + t_mse"
   ]
  },
  {
   "cell_type": "code",
   "execution_count": 46,
   "id": "716a93c4",
   "metadata": {},
   "outputs": [],
   "source": [
    "# Define metrics (accuracy in this case)\n",
    "metrics = ['accuracy']\n",
    "\n",
    "# Compile the model\n",
    "model.compile(optimizer=tf.keras.optimizers.RMSprop(learning_rate=0.0005),\n",
    "              loss=combined_loss,\n",
    "              metrics=metrics)"
   ]
  },
  {
   "cell_type": "code",
   "execution_count": null,
   "id": "410010ae",
   "metadata": {},
   "outputs": [],
   "source": []
  },
  {
   "cell_type": "code",
   "execution_count": null,
   "id": "185dd236",
   "metadata": {},
   "outputs": [],
   "source": []
  },
  {
   "cell_type": "code",
   "execution_count": null,
   "id": "5c767380",
   "metadata": {},
   "outputs": [],
   "source": []
  }
 ],
 "metadata": {
  "kernelspec": {
   "display_name": "Python 3 (ipykernel)",
   "language": "python",
   "name": "python3"
  },
  "language_info": {
   "codemirror_mode": {
    "name": "ipython",
    "version": 3
   },
   "file_extension": ".py",
   "mimetype": "text/x-python",
   "name": "python",
   "nbconvert_exporter": "python",
   "pygments_lexer": "ipython3",
   "version": "3.9.16"
  }
 },
 "nbformat": 4,
 "nbformat_minor": 5
}
